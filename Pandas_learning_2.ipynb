{
 "cells": [
  {
   "cell_type": "markdown",
   "id": "24c8ca43",
   "metadata": {},
   "source": [
    "# <i> Инструменты для работы с типами данных в Pandas<i>"
   ]
  },
  {
   "cell_type": "markdown",
   "id": "b47d8a92",
   "metadata": {},
   "source": [
    "###### <i>astype()<i>"
   ]
  },
  {
   "cell_type": "code",
   "execution_count": 77,
   "id": "5e89416d",
   "metadata": {},
   "outputs": [],
   "source": [
    "import numpy as np\n",
    "import pandas as pd"
   ]
  },
  {
   "cell_type": "code",
   "execution_count": 15,
   "id": "f981d316",
   "metadata": {},
   "outputs": [
    {
     "data": {
      "text/plain": [
       "dtype('int64')"
      ]
     },
     "execution_count": 15,
     "metadata": {},
     "output_type": "execute_result"
    }
   ],
   "source": [
    "s = pd.Series([1,2,3])\n",
    "s.dtype"
   ]
  },
  {
   "cell_type": "code",
   "execution_count": 16,
   "id": "3edc4a7b",
   "metadata": {},
   "outputs": [
    {
     "data": {
      "text/plain": [
       "0    1.0\n",
       "1    2.0\n",
       "2    3.0\n",
       "dtype: float64"
      ]
     },
     "execution_count": 16,
     "metadata": {},
     "output_type": "execute_result"
    }
   ],
   "source": [
    "# приведем в тип float\n",
    "s.astype('float64')"
   ]
  },
  {
   "cell_type": "code",
   "execution_count": 19,
   "id": "10226235",
   "metadata": {},
   "outputs": [
    {
     "data": {
      "text/plain": [
       "name      object\n",
       "price    float64\n",
       "count      int64\n",
       "dtype: object"
      ]
     },
     "execution_count": 19,
     "metadata": {},
     "output_type": "execute_result"
    }
   ],
   "source": [
    "d = [{'name': 'pen', 'price': 3.9, 'count': 8},{'name': 'book','price': 4.5,'count': 11}]\n",
    "df = pd.DataFrame(d)\n",
    "df.dtypes"
   ]
  },
  {
   "cell_type": "code",
   "execution_count": 20,
   "id": "d5e366c6",
   "metadata": {},
   "outputs": [
    {
     "data": {
      "text/plain": [
       "name      object\n",
       "price    float64\n",
       "count      int32\n",
       "dtype: object"
      ]
     },
     "execution_count": 20,
     "metadata": {},
     "output_type": "execute_result"
    }
   ],
   "source": [
    "# Изменим тип поля 'count' к int32\n",
    "df['count'] = df['count'].astype('int32')\n",
    "df.dtypes"
   ]
  },
  {
   "cell_type": "code",
   "execution_count": 21,
   "id": "d9d6c9fd",
   "metadata": {},
   "outputs": [
    {
     "data": {
      "text/plain": [
       "name      object\n",
       "price    float64\n",
       "count      int64\n",
       "dtype: object"
      ]
     },
     "execution_count": 21,
     "metadata": {},
     "output_type": "execute_result"
    }
   ],
   "source": [
    "# и обратно немного другим способом через словарь\n",
    "df = df.astype({'count':'int64'})\n",
    "df.dtypes"
   ]
  },
  {
   "cell_type": "markdown",
   "id": "16887a19",
   "metadata": {},
   "source": [
    "### Фукции подготовки данных"
   ]
  },
  {
   "cell_type": "code",
   "execution_count": 111,
   "id": "de0c0658",
   "metadata": {},
   "outputs": [
    {
     "data": {
      "text/html": [
       "<div>\n",
       "<style scoped>\n",
       "    .dataframe tbody tr th:only-of-type {\n",
       "        vertical-align: middle;\n",
       "    }\n",
       "\n",
       "    .dataframe tbody tr th {\n",
       "        vertical-align: top;\n",
       "    }\n",
       "\n",
       "    .dataframe thead th {\n",
       "        text-align: right;\n",
       "    }\n",
       "</style>\n",
       "<table border=\"1\" class=\"dataframe\">\n",
       "  <thead>\n",
       "    <tr style=\"text-align: right;\">\n",
       "      <th></th>\n",
       "      <th>Температура</th>\n",
       "      <th>Давление</th>\n",
       "      <th>Осадки</th>\n",
       "      <th>Дата</th>\n",
       "    </tr>\n",
       "  </thead>\n",
       "  <tbody>\n",
       "    <tr>\n",
       "      <th>0</th>\n",
       "      <td>-8 °C</td>\n",
       "      <td>96292 Па</td>\n",
       "      <td>Да</td>\n",
       "      <td>20.11.2019</td>\n",
       "    </tr>\n",
       "    <tr>\n",
       "      <th>1</th>\n",
       "      <td>-10.3 °C</td>\n",
       "      <td>97292 Па</td>\n",
       "      <td>Да</td>\n",
       "      <td>21.11.2019</td>\n",
       "    </tr>\n",
       "    <tr>\n",
       "      <th>2</th>\n",
       "      <td>-9.1 °C</td>\n",
       "      <td>96325 Па</td>\n",
       "      <td>Нет</td>\n",
       "      <td>22.11.2019</td>\n",
       "    </tr>\n",
       "  </tbody>\n",
       "</table>\n",
       "</div>"
      ],
      "text/plain": [
       "  Температура  Давление Осадки        Дата\n",
       "0       -8 °C  96292 Па     Да  20.11.2019\n",
       "1    -10.3 °C  97292 Па     Да  21.11.2019\n",
       "2     -9.1 °C  96325 Па    Нет  22.11.2019"
      ]
     },
     "execution_count": 111,
     "metadata": {},
     "output_type": "execute_result"
    }
   ],
   "source": [
    "df = pd.read_csv('e:/Pandas learning2.csv', sep=';')\n",
    "df"
   ]
  },
  {
   "cell_type": "code",
   "execution_count": 112,
   "id": "3813e952",
   "metadata": {},
   "outputs": [
    {
     "data": {
      "text/plain": [
       "Температура    object\n",
       "Давление       object\n",
       "Осадки         object\n",
       "Дата           object\n",
       "dtype: object"
      ]
     },
     "execution_count": 112,
     "metadata": {},
     "output_type": "execute_result"
    }
   ],
   "source": [
    "df.dtypes"
   ]
  },
  {
   "cell_type": "code",
   "execution_count": 113,
   "id": "6d5101ae",
   "metadata": {},
   "outputs": [],
   "source": [
    "# напрямую через astype() невозможно привести данные к другому виду\n",
    "# поэтому напишем функции для преобразования удалив лишние символы и переведя 'Да' и 'Нет' в булевый тип\n",
    "temper_converter = lambda x: x.replace('°C', '').strip()\n",
    "pressure_converter = lambda x: x.replace('Па', '').strip()\n",
    "precipitation_converter = lambda x: True if x=='Да' else False"
   ]
  },
  {
   "cell_type": "code",
   "execution_count": 114,
   "id": "860312b2",
   "metadata": {},
   "outputs": [],
   "source": [
    "# применим созданные функции через .aplly(наша функция)\n",
    "df['Температура'] = df['Температура'].apply(temper_converter).astype('float64')"
   ]
  },
  {
   "cell_type": "code",
   "execution_count": 115,
   "id": "8414225f",
   "metadata": {},
   "outputs": [],
   "source": [
    "df['Давление'] = df['Давление'].apply(pressure_converter).astype('int32')"
   ]
  },
  {
   "cell_type": "code",
   "execution_count": 116,
   "id": "4b56ba33",
   "metadata": {},
   "outputs": [],
   "source": [
    "df['Осадки'] = df['Осадки'].apply(precipitation_converter)"
   ]
  },
  {
   "cell_type": "code",
   "execution_count": 102,
   "id": "66c94fa2",
   "metadata": {},
   "outputs": [
    {
     "data": {
      "text/plain": [
       "Температура    float64\n",
       "Давление         int32\n",
       "Осадки            bool\n",
       "Дата            object\n",
       "dtype: object"
      ]
     },
     "execution_count": 102,
     "metadata": {},
     "output_type": "execute_result"
    }
   ],
   "source": [
    "df.dtypes"
   ]
  },
  {
   "cell_type": "markdown",
   "id": "dbb21484",
   "metadata": {},
   "source": [
    "# <i> Вспомогательные функции<i>"
   ]
  },
  {
   "cell_type": "code",
   "execution_count": 122,
   "id": "74c8b7c5",
   "metadata": {},
   "outputs": [
    {
     "data": {
      "text/plain": [
       "Температура    object\n",
       "Давление       object\n",
       "Осадки         object\n",
       "Дата           object\n",
       "dtype: object"
      ]
     },
     "execution_count": 122,
     "metadata": {},
     "output_type": "execute_result"
    }
   ],
   "source": [
    "# to_numeric() данные в числовой тип\n",
    "# to_datetime() данные в тип datetime\n",
    "# to_timedelta() данные в тип timedata\n",
    "df = pd.read_csv('e:/Pandas learning2.csv', sep=';')\n",
    "df.dtypes"
   ]
  },
  {
   "cell_type": "code",
   "execution_count": 123,
   "id": "6dd8d8ad",
   "metadata": {},
   "outputs": [
    {
     "data": {
      "text/html": [
       "<div>\n",
       "<style scoped>\n",
       "    .dataframe tbody tr th:only-of-type {\n",
       "        vertical-align: middle;\n",
       "    }\n",
       "\n",
       "    .dataframe tbody tr th {\n",
       "        vertical-align: top;\n",
       "    }\n",
       "\n",
       "    .dataframe thead th {\n",
       "        text-align: right;\n",
       "    }\n",
       "</style>\n",
       "<table border=\"1\" class=\"dataframe\">\n",
       "  <thead>\n",
       "    <tr style=\"text-align: right;\">\n",
       "      <th></th>\n",
       "      <th>Температура</th>\n",
       "      <th>Давление</th>\n",
       "      <th>Осадки</th>\n",
       "      <th>Дата</th>\n",
       "    </tr>\n",
       "  </thead>\n",
       "  <tbody>\n",
       "    <tr>\n",
       "      <th>0</th>\n",
       "      <td>-8 °C</td>\n",
       "      <td>96292 Па</td>\n",
       "      <td>Да</td>\n",
       "      <td>20.11.2019</td>\n",
       "    </tr>\n",
       "    <tr>\n",
       "      <th>1</th>\n",
       "      <td>-10.3 °C</td>\n",
       "      <td>97292 Па</td>\n",
       "      <td>Да</td>\n",
       "      <td>21.11.2019</td>\n",
       "    </tr>\n",
       "    <tr>\n",
       "      <th>2</th>\n",
       "      <td>-9.1 °C</td>\n",
       "      <td>96325 Па</td>\n",
       "      <td>Нет</td>\n",
       "      <td>22.11.2019</td>\n",
       "    </tr>\n",
       "  </tbody>\n",
       "</table>\n",
       "</div>"
      ],
      "text/plain": [
       "  Температура  Давление Осадки        Дата\n",
       "0       -8 °C  96292 Па     Да  20.11.2019\n",
       "1    -10.3 °C  97292 Па     Да  21.11.2019\n",
       "2     -9.1 °C  96325 Па    Нет  22.11.2019"
      ]
     },
     "execution_count": 123,
     "metadata": {},
     "output_type": "execute_result"
    }
   ],
   "source": [
    "df"
   ]
  },
  {
   "cell_type": "code",
   "execution_count": 124,
   "id": "409c948a",
   "metadata": {},
   "outputs": [
    {
     "data": {
      "text/plain": [
       "Температура           float64\n",
       "Давление              float64\n",
       "Осадки                 object\n",
       "Дата           datetime64[ns]\n",
       "dtype: object"
      ]
     },
     "execution_count": 124,
     "metadata": {},
     "output_type": "execute_result"
    }
   ],
   "source": [
    "df['Температура'] = pd.to_numeric(df['Температура'], errors='coerce')\n",
    "df['Давление'] = pd.to_numeric(df['Давление'], errors='coerce')\n",
    "df['Дата'] = pd.to_datetime(df['Дата'], errors='coerce')\n",
    "df.dtypes"
   ]
  },
  {
   "cell_type": "code",
   "execution_count": 125,
   "id": "09795de7",
   "metadata": {},
   "outputs": [
    {
     "data": {
      "text/html": [
       "<div>\n",
       "<style scoped>\n",
       "    .dataframe tbody tr th:only-of-type {\n",
       "        vertical-align: middle;\n",
       "    }\n",
       "\n",
       "    .dataframe tbody tr th {\n",
       "        vertical-align: top;\n",
       "    }\n",
       "\n",
       "    .dataframe thead th {\n",
       "        text-align: right;\n",
       "    }\n",
       "</style>\n",
       "<table border=\"1\" class=\"dataframe\">\n",
       "  <thead>\n",
       "    <tr style=\"text-align: right;\">\n",
       "      <th></th>\n",
       "      <th>Температура</th>\n",
       "      <th>Давление</th>\n",
       "      <th>Осадки</th>\n",
       "      <th>Дата</th>\n",
       "    </tr>\n",
       "  </thead>\n",
       "  <tbody>\n",
       "    <tr>\n",
       "      <th>0</th>\n",
       "      <td>NaN</td>\n",
       "      <td>NaN</td>\n",
       "      <td>Да</td>\n",
       "      <td>2019-11-20</td>\n",
       "    </tr>\n",
       "    <tr>\n",
       "      <th>1</th>\n",
       "      <td>NaN</td>\n",
       "      <td>NaN</td>\n",
       "      <td>Да</td>\n",
       "      <td>2019-11-21</td>\n",
       "    </tr>\n",
       "    <tr>\n",
       "      <th>2</th>\n",
       "      <td>NaN</td>\n",
       "      <td>NaN</td>\n",
       "      <td>Нет</td>\n",
       "      <td>2019-11-22</td>\n",
       "    </tr>\n",
       "  </tbody>\n",
       "</table>\n",
       "</div>"
      ],
      "text/plain": [
       "   Температура  Давление Осадки       Дата\n",
       "0          NaN       NaN     Да 2019-11-20\n",
       "1          NaN       NaN     Да 2019-11-21\n",
       "2          NaN       NaN    Нет 2019-11-22"
      ]
     },
     "execution_count": 125,
     "metadata": {},
     "output_type": "execute_result"
    }
   ],
   "source": [
    "df"
   ]
  },
  {
   "cell_type": "code",
   "execution_count": 120,
   "id": "0ad75dec",
   "metadata": {},
   "outputs": [
    {
     "data": {
      "text/html": [
       "<div>\n",
       "<style scoped>\n",
       "    .dataframe tbody tr th:only-of-type {\n",
       "        vertical-align: middle;\n",
       "    }\n",
       "\n",
       "    .dataframe tbody tr th {\n",
       "        vertical-align: top;\n",
       "    }\n",
       "\n",
       "    .dataframe thead th {\n",
       "        text-align: right;\n",
       "    }\n",
       "</style>\n",
       "<table border=\"1\" class=\"dataframe\">\n",
       "  <thead>\n",
       "    <tr style=\"text-align: right;\">\n",
       "      <th></th>\n",
       "      <th>Температура</th>\n",
       "      <th>Давление</th>\n",
       "    </tr>\n",
       "  </thead>\n",
       "  <tbody>\n",
       "    <tr>\n",
       "      <th>0</th>\n",
       "      <td>NaN</td>\n",
       "      <td>NaN</td>\n",
       "    </tr>\n",
       "    <tr>\n",
       "      <th>1</th>\n",
       "      <td>NaN</td>\n",
       "      <td>NaN</td>\n",
       "    </tr>\n",
       "    <tr>\n",
       "      <th>2</th>\n",
       "      <td>NaN</td>\n",
       "      <td>NaN</td>\n",
       "    </tr>\n",
       "  </tbody>\n",
       "</table>\n",
       "</div>"
      ],
      "text/plain": [
       "   Температура  Давление\n",
       "0          NaN       NaN\n",
       "1          NaN       NaN\n",
       "2          NaN       NaN"
      ]
     },
     "execution_count": 120,
     "metadata": {},
     "output_type": "execute_result"
    }
   ],
   "source": [
    "# выборка по типу данных\n",
    "df.select_dtypes(include=['float64','int64'])"
   ]
  },
  {
   "cell_type": "code",
   "execution_count": null,
   "id": "c0c8d2ef",
   "metadata": {},
   "outputs": [],
   "source": []
  }
 ],
 "metadata": {
  "kernelspec": {
   "display_name": "Python 3",
   "language": "python",
   "name": "python3"
  },
  "language_info": {
   "codemirror_mode": {
    "name": "ipython",
    "version": 3
   },
   "file_extension": ".py",
   "mimetype": "text/x-python",
   "name": "python",
   "nbconvert_exporter": "python",
   "pygments_lexer": "ipython3",
   "version": "3.8.8"
  }
 },
 "nbformat": 4,
 "nbformat_minor": 5
}
